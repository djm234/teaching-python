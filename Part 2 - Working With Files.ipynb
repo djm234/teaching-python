{
 "cells": [
  {
   "cell_type": "markdown",
   "metadata": {},
   "source": [
    "# Part 2 - Working with Files\n",
    "This section will introduce how to use Python to open files and work with the data inside.\n",
    "\n",
    "\n",
    "## Using Python's `open` function\n",
    "Opening files makes use of the `open` function, which can read or write to files. Once files are opened and finished with, they need closing so that we keep things 'clean'. Usually this might take the form:\n",
    "```\n",
    "my_file_object = open('path/to/file.txt', 'r')  # The 'r' signifies that we want to read the file.\n",
    "lines = my_file_object.readlines()\n",
    "my_file_object.close()\n",
    "```\n",
    "In order to keep things clean as mentioned before, we will use a `with` statement to create the file object. Below that statement is nested code - once those tasks are complete and the program moves out of the indent, the file is automatically closed. This makes things easier to read also.\n",
    "\n",
    "Let's use this to open the 'spreadsheet.csv'. This contains the following data in a comma-separated format, which if opened in Excel would show a spreadsheet like:\n",
    "\n",
    "| item | price | quantity |\n",
    "|------|-------|----------|\n",
    "|beans|0.95|1|\n",
    "|mushroom|0.1|10|\n",
    "|sausage|0.6|6|\n",
    "|tomato|0.2|2|\n",
    "|bacon|0.3|8|\n",
    "|egg|0.6|6|\n",
    "\n",
    "...but since this is a text file format, the content is actually:\n",
    "```\n",
    "item,price,quantity\n",
    "beans,0.95,1\n",
    "mushroom,0.1,10\n",
    "sausage,0.6,6\n",
    "tomato,0.2,2\n",
    "bacon,0.3,8\n",
    "egg,0.6,6\n",
    "```\n",
    "Let's open this file and print the content as a list, where each item is a line from the file:"
   ]
  },
  {
   "cell_type": "code",
   "execution_count": 8,
   "metadata": {},
   "outputs": [
    {
     "name": "stdout",
     "output_type": "stream",
     "text": [
      "['item,price,quantity\\n', 'beans,0.95,1\\n', 'mushroom,0.1,10\\n', 'sausage,0.6,6\\n', 'tomato,0.2,2\\n', 'bacon,0.3,8\\n', 'egg,0.6,6\\n']\n"
     ]
    }
   ],
   "source": [
    "# Start with a `with` statement to create the file object\n",
    "with open('resources/spreadsheet.csv', 'r') as my_file_object:\n",
    "    # Work with the file object inside this indented portion\n",
    "    lines = my_file_object.readlines()\n",
    "    print(lines)"
   ]
  },
  {
   "cell_type": "markdown",
   "metadata": {},
   "source": [
    "As can be seen, the end of each line (or row) has `\\n`, which is a 'newline' character. Each column is separated by a comma (hence comma separated file - CSV). We aren't really interested in this data, but it is very easy to manipulate `string` type data like this:"
   ]
  },
  {
   "cell_type": "code",
   "execution_count": 12,
   "metadata": {},
   "outputs": [
    {
     "name": "stdout",
     "output_type": "stream",
     "text": [
      "item,price,quantity\n",
      "['item', 'price', 'quantity']\n"
     ]
    }
   ],
   "source": [
    "row = 'item,price,quantity\\n'\n",
    "\n",
    "# Remove the newline character using `rstrip()`\n",
    "row = row.rstrip()\n",
    "print(row)\n",
    "\n",
    "# Split the content of the row by any comma characters\n",
    "row = row.split(',')\n",
    "print(row)"
   ]
  },
  {
   "cell_type": "markdown",
   "metadata": {},
   "source": [
    "Now our line/row which was a string is not converted to a list of strings, where each item represents a column.\n",
    "\n",
    "## There must be a less fiddly way?\n",
    "\n",
    "Yes! There is a much easier way to work with file data, where the format is a more common type. For example; a CSV file, Zip file, HTML, and many more than can be reasonably listed here. Often it is the case someone (or  agroup of people in the Open Source Community) have written a Python package to do this.\n",
    "\n",
    "Once of the most useful packages for working with data in spreadsheet-like files is the `pandas` module/package. This is covered next.\n",
    "\n",
    "### Installing packages\n",
    "\n",
    "Installing packages like `pandas` is made easy using the command line, via commands like `pip install pandas`. An explanation how to install packages using e.g. `pip` is covered elsewhere. Once installed, modules can be imported into code by e.g. typing `import pandas`.\n",
    "\n",
    "## Using the `pandas` module to open files\n",
    "The `pandas` module contains many functions to work with data in a table structure - perfect for anyone who has reached the limits of Excel and want to do something more complex.\n",
    "\n",
    "The concept is fairly simple - you open a file using Pandas, then you can access or transform the data in the table/spreadsheet row-, column-, or cell-wise. You can also add to or delete the data in this way, and then re-write the table to a file in a different format."
   ]
  },
  {
   "cell_type": "code",
   "execution_count": 33,
   "metadata": {},
   "outputs": [
    {
     "data": {
      "text/html": [
       "<div>\n",
       "<style scoped>\n",
       "    .dataframe tbody tr th:only-of-type {\n",
       "        vertical-align: middle;\n",
       "    }\n",
       "\n",
       "    .dataframe tbody tr th {\n",
       "        vertical-align: top;\n",
       "    }\n",
       "\n",
       "    .dataframe thead th {\n",
       "        text-align: right;\n",
       "    }\n",
       "</style>\n",
       "<table border=\"1\" class=\"dataframe\">\n",
       "  <thead>\n",
       "    <tr style=\"text-align: right;\">\n",
       "      <th></th>\n",
       "      <th>item</th>\n",
       "      <th>price</th>\n",
       "      <th>quantity</th>\n",
       "    </tr>\n",
       "  </thead>\n",
       "  <tbody>\n",
       "    <tr>\n",
       "      <th>0</th>\n",
       "      <td>beans</td>\n",
       "      <td>0.95</td>\n",
       "      <td>1</td>\n",
       "    </tr>\n",
       "    <tr>\n",
       "      <th>1</th>\n",
       "      <td>mushroom</td>\n",
       "      <td>0.10</td>\n",
       "      <td>10</td>\n",
       "    </tr>\n",
       "    <tr>\n",
       "      <th>2</th>\n",
       "      <td>sausage</td>\n",
       "      <td>0.60</td>\n",
       "      <td>6</td>\n",
       "    </tr>\n",
       "    <tr>\n",
       "      <th>3</th>\n",
       "      <td>tomato</td>\n",
       "      <td>0.20</td>\n",
       "      <td>2</td>\n",
       "    </tr>\n",
       "    <tr>\n",
       "      <th>4</th>\n",
       "      <td>bacon</td>\n",
       "      <td>0.30</td>\n",
       "      <td>8</td>\n",
       "    </tr>\n",
       "    <tr>\n",
       "      <th>5</th>\n",
       "      <td>egg</td>\n",
       "      <td>0.60</td>\n",
       "      <td>6</td>\n",
       "    </tr>\n",
       "  </tbody>\n",
       "</table>\n",
       "</div>"
      ],
      "text/plain": [
       "       item  price  quantity\n",
       "0     beans   0.95         1\n",
       "1  mushroom   0.10        10\n",
       "2   sausage   0.60         6\n",
       "3    tomato   0.20         2\n",
       "4     bacon   0.30         8\n",
       "5       egg   0.60         6"
      ]
     },
     "execution_count": 33,
     "metadata": {},
     "output_type": "execute_result"
    }
   ],
   "source": [
    "# Typing 'pandas' all the time takes too long - let's abbreviate the package to 'pd'\n",
    "import pandas as pd\n",
    "\n",
    "# Load our spreadsheet file into a 'dataframe' object (which we will call df).\n",
    "df = pd.read_csv('resources/spreadsheet.csv')\n",
    "\n",
    "# Show the table\n",
    "df"
   ]
  },
  {
   "cell_type": "markdown",
   "metadata": {},
   "source": [
    "That was much simpler! The `pandas` module has done all of the parsing of the spreadsheet behind the scenes, so all we need to worry about is what we do with the data.\n",
    "\n",
    "Columns in the table can be accessed in the following way:"
   ]
  },
  {
   "cell_type": "code",
   "execution_count": 34,
   "metadata": {},
   "outputs": [
    {
     "data": {
      "text/plain": [
       "0       beans\n",
       "1    mushroom\n",
       "2     sausage\n",
       "3      tomato\n",
       "4       bacon\n",
       "5         egg\n",
       "Name: item, dtype: object"
      ]
     },
     "execution_count": 34,
     "metadata": {},
     "output_type": "execute_result"
    }
   ],
   "source": [
    "df['item']  # Print data in the 'item' column"
   ]
  },
  {
   "cell_type": "markdown",
   "metadata": {},
   "source": [
    "...rows can be accessed in the following way:"
   ]
  },
  {
   "cell_type": "code",
   "execution_count": 35,
   "metadata": {},
   "outputs": [
    {
     "data": {
      "text/plain": [
       "item        beans\n",
       "price        0.95\n",
       "quantity        1\n",
       "Name: 0, dtype: object"
      ]
     },
     "execution_count": 35,
     "metadata": {},
     "output_type": "execute_result"
    }
   ],
   "source": [
    "df.loc[0]  # Print data in row 0 according to the index column (far left no the table)"
   ]
  },
  {
   "cell_type": "markdown",
   "metadata": {},
   "source": [
    "...and cells can be accessed in the following way:"
   ]
  },
  {
   "cell_type": "code",
   "execution_count": 36,
   "metadata": {},
   "outputs": [
    {
     "data": {
      "text/plain": [
       "0.95"
      ]
     },
     "execution_count": 36,
     "metadata": {},
     "output_type": "execute_result"
    }
   ],
   "source": [
    "df.loc[0, 'price']  # Index 0, column 'price'"
   ]
  },
  {
   "cell_type": "markdown",
   "metadata": {},
   "source": [
    "We can do more than just look at the data though - it can be sorted in any number of ways. For example:"
   ]
  },
  {
   "cell_type": "code",
   "execution_count": 39,
   "metadata": {},
   "outputs": [
    {
     "data": {
      "text/html": [
       "<div>\n",
       "<style scoped>\n",
       "    .dataframe tbody tr th:only-of-type {\n",
       "        vertical-align: middle;\n",
       "    }\n",
       "\n",
       "    .dataframe tbody tr th {\n",
       "        vertical-align: top;\n",
       "    }\n",
       "\n",
       "    .dataframe thead th {\n",
       "        text-align: right;\n",
       "    }\n",
       "</style>\n",
       "<table border=\"1\" class=\"dataframe\">\n",
       "  <thead>\n",
       "    <tr style=\"text-align: right;\">\n",
       "      <th></th>\n",
       "      <th>item</th>\n",
       "      <th>price</th>\n",
       "      <th>quantity</th>\n",
       "      <th>cost</th>\n",
       "    </tr>\n",
       "  </thead>\n",
       "  <tbody>\n",
       "    <tr>\n",
       "      <th>1</th>\n",
       "      <td>mushroom</td>\n",
       "      <td>0.10</td>\n",
       "      <td>10</td>\n",
       "      <td>1.00</td>\n",
       "    </tr>\n",
       "    <tr>\n",
       "      <th>3</th>\n",
       "      <td>tomato</td>\n",
       "      <td>0.20</td>\n",
       "      <td>2</td>\n",
       "      <td>0.40</td>\n",
       "    </tr>\n",
       "    <tr>\n",
       "      <th>4</th>\n",
       "      <td>bacon</td>\n",
       "      <td>0.30</td>\n",
       "      <td>8</td>\n",
       "      <td>2.40</td>\n",
       "    </tr>\n",
       "    <tr>\n",
       "      <th>2</th>\n",
       "      <td>sausage</td>\n",
       "      <td>0.60</td>\n",
       "      <td>6</td>\n",
       "      <td>3.60</td>\n",
       "    </tr>\n",
       "    <tr>\n",
       "      <th>5</th>\n",
       "      <td>egg</td>\n",
       "      <td>0.60</td>\n",
       "      <td>6</td>\n",
       "      <td>3.60</td>\n",
       "    </tr>\n",
       "    <tr>\n",
       "      <th>0</th>\n",
       "      <td>beans</td>\n",
       "      <td>0.95</td>\n",
       "      <td>1</td>\n",
       "      <td>0.95</td>\n",
       "    </tr>\n",
       "  </tbody>\n",
       "</table>\n",
       "</div>"
      ],
      "text/plain": [
       "       item  price  quantity  cost\n",
       "1  mushroom   0.10        10  1.00\n",
       "3    tomato   0.20         2  0.40\n",
       "4     bacon   0.30         8  2.40\n",
       "2   sausage   0.60         6  3.60\n",
       "5       egg   0.60         6  3.60\n",
       "0     beans   0.95         1  0.95"
      ]
     },
     "execution_count": 39,
     "metadata": {},
     "output_type": "execute_result"
    }
   ],
   "source": [
    "# Sort the table by item price\n",
    "df = df.sort_values(by='price', ascending=True)\n",
    "df"
   ]
  },
  {
   "cell_type": "markdown",
   "metadata": {},
   "source": [
    "...and new columns can be created, which could be based upon the values of existing ones. The method used to create new named columns is simlar to the approach used to index and print them:"
   ]
  },
  {
   "cell_type": "code",
   "execution_count": 41,
   "metadata": {},
   "outputs": [
    {
     "data": {
      "text/html": [
       "<div>\n",
       "<style scoped>\n",
       "    .dataframe tbody tr th:only-of-type {\n",
       "        vertical-align: middle;\n",
       "    }\n",
       "\n",
       "    .dataframe tbody tr th {\n",
       "        vertical-align: top;\n",
       "    }\n",
       "\n",
       "    .dataframe thead th {\n",
       "        text-align: right;\n",
       "    }\n",
       "</style>\n",
       "<table border=\"1\" class=\"dataframe\">\n",
       "  <thead>\n",
       "    <tr style=\"text-align: right;\">\n",
       "      <th></th>\n",
       "      <th>item</th>\n",
       "      <th>price</th>\n",
       "      <th>quantity</th>\n",
       "      <th>cost</th>\n",
       "    </tr>\n",
       "  </thead>\n",
       "  <tbody>\n",
       "    <tr>\n",
       "      <th>1</th>\n",
       "      <td>mushroom</td>\n",
       "      <td>0.10</td>\n",
       "      <td>10</td>\n",
       "      <td>1.00</td>\n",
       "    </tr>\n",
       "    <tr>\n",
       "      <th>3</th>\n",
       "      <td>tomato</td>\n",
       "      <td>0.20</td>\n",
       "      <td>2</td>\n",
       "      <td>0.40</td>\n",
       "    </tr>\n",
       "    <tr>\n",
       "      <th>4</th>\n",
       "      <td>bacon</td>\n",
       "      <td>0.30</td>\n",
       "      <td>8</td>\n",
       "      <td>2.40</td>\n",
       "    </tr>\n",
       "    <tr>\n",
       "      <th>2</th>\n",
       "      <td>sausage</td>\n",
       "      <td>0.60</td>\n",
       "      <td>6</td>\n",
       "      <td>3.60</td>\n",
       "    </tr>\n",
       "    <tr>\n",
       "      <th>5</th>\n",
       "      <td>egg</td>\n",
       "      <td>0.60</td>\n",
       "      <td>6</td>\n",
       "      <td>3.60</td>\n",
       "    </tr>\n",
       "    <tr>\n",
       "      <th>0</th>\n",
       "      <td>beans</td>\n",
       "      <td>0.95</td>\n",
       "      <td>1</td>\n",
       "      <td>0.95</td>\n",
       "    </tr>\n",
       "  </tbody>\n",
       "</table>\n",
       "</div>"
      ],
      "text/plain": [
       "       item  price  quantity  cost\n",
       "1  mushroom   0.10        10  1.00\n",
       "3    tomato   0.20         2  0.40\n",
       "4     bacon   0.30         8  2.40\n",
       "2   sausage   0.60         6  3.60\n",
       "5       egg   0.60         6  3.60\n",
       "0     beans   0.95         1  0.95"
      ]
     },
     "execution_count": 41,
     "metadata": {},
     "output_type": "execute_result"
    }
   ],
   "source": [
    "# Add a new column, which is the cost per item (price x quantity)\n",
    "df['cost'] = df['price'] * df['quantity']\n",
    "df"
   ]
  },
  {
   "cell_type": "markdown",
   "metadata": {},
   "source": [
    "There are many more useful things `pandas` can do. But let's end this section with an example of how easy it is to then write a file. There are several output formats to choose from, but let's randomly go for HTML:"
   ]
  },
  {
   "cell_type": "code",
   "execution_count": 42,
   "metadata": {},
   "outputs": [],
   "source": [
    "df.to_html('resources/spreadsheet.html')"
   ]
  }
 ],
 "metadata": {
  "kernelspec": {
   "display_name": "Python 3",
   "language": "python",
   "name": "python3"
  },
  "language_info": {
   "codemirror_mode": {
    "name": "ipython",
    "version": 3
   },
   "file_extension": ".py",
   "mimetype": "text/x-python",
   "name": "python",
   "nbconvert_exporter": "python",
   "pygments_lexer": "ipython3",
   "version": "3.6.0"
  }
 },
 "nbformat": 4,
 "nbformat_minor": 2
}
