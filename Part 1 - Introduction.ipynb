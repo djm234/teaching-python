{
 "cells": [
  {
   "cell_type": "markdown",
   "metadata": {},
   "source": [
    "# Introduction to Python\n",
    "\n",
    "### Overview\n",
    "\n",
    "Computers are essentially dumb machines that do not do anything by themselves. They need to be told what to do, and programming languages are how humans can do this.\n",
    "\n",
    "Python is a fantastic language for a beginner to start programming in - there are no confusing symbols that can make things seem scarily complicated, and the way code is written makes it relatively easy to read. In a short space of time you can learn to do some really interesting stuff, or even understand someone else's code that has had years more experience than you! If you can't work out how to do something, the answer is always a Google away :)\n",
    "\n",
    "This document is called a 'notebook'. It is like an interactive web page where you can write Python code into a 'cell' and see the output on the screen. Once code is written in a cell, it can be 'run' by pressing `Ctrl`+`Enter`.\n",
    "\n",
    "By the end of this document, you will be able to:\n",
    "- Make Python print a message on the screen.\n",
    "- Perform some basic maths calculations.\n",
    "- Create a shopping list.\n",
    "- Use a 'dictionary' and a 'loop' to find out the cost of your shopping list.\n",
    "\n",
    "\n",
    "## Hello, world!\n",
    "\n",
    "Let's jump straight in, and create our first Python command - we will get Python to say \"Hello, world!\" for us.\n",
    "\n",
    "To do this we need to use a `print` function, which 'prints' to screen. Functions in Python accept arguments, which are passed inside curved braces `()`. In the case of the `print` function, it expects a type of data referred to as a string - textual data. So let's pass the `print` function our \"Hello, world\" string and then run it (`Ctrl`+`Enter`)."
   ]
  },
  {
   "cell_type": "code",
   "execution_count": 1,
   "metadata": {},
   "outputs": [
    {
     "name": "stdout",
     "output_type": "stream",
     "text": [
      "Hello, world\n"
     ]
    }
   ],
   "source": [
    "print(\"Hello, world\")"
   ]
  },
  {
   "cell_type": "markdown",
   "metadata": {},
   "source": [
    "Success! You have just run your first python command - the `print` function took your string, and then in the background it did all of the work necessary to print the text shortly afterwards.\n",
    "\n",
    "Python has many functions like this, but you can also create your own that do more complicated thing (more about that later). We have just seen one of the data types python can work with (a string), but there are a few others to be aware of.\n",
    "\n",
    "## Data types in Python\n",
    "\n",
    "Python can work with the following types of data:\n",
    "- String\n",
    "  - Text, which is represented by either single `'` or double `\"` quotes, such as `\"Hello world\"`\n",
    "- Numbers\n",
    "  - These can be integers (`1`, `2`, `3`, ...etc.), or floats (`0.1`, `0.2`, `0.3`, ...etc.)\n",
    "- Boolean\n",
    "  - `True` or `False` (remember the capital letter!)\n",
    "- None\n",
    "  - Yes, something missing can be set to `None`.\n",
    "  \n",
    "Let's use the `print` function to show these different types:"
   ]
  },
  {
   "cell_type": "code",
   "execution_count": 2,
   "metadata": {},
   "outputs": [
    {
     "name": "stdout",
     "output_type": "stream",
     "text": [
      "Python is great!\n",
      "1\n",
      "0.1\n",
      "True\n",
      "None\n"
     ]
    }
   ],
   "source": [
    "print(\"Python is great!\")\n",
    "print(1)\n",
    "print(0.1)\n",
    "print(True)\n",
    "print(None)"
   ]
  },
  {
   "cell_type": "markdown",
   "metadata": {},
   "source": [
    "You can do more than just printing values though - you can assign any of the above values to 'variables'. For example, we could create a variable that we call `car`, and give it a value."
   ]
  },
  {
   "cell_type": "code",
   "execution_count": 3,
   "metadata": {},
   "outputs": [],
   "source": [
    "car = 'purple'"
   ]
  },
  {
   "cell_type": "markdown",
   "metadata": {},
   "source": [
    "In computer memory the variable `car` is now equal to `'purple'`. So later on we can access this data (let's show this by printing to screen):"
   ]
  },
  {
   "cell_type": "code",
   "execution_count": 4,
   "metadata": {},
   "outputs": [
    {
     "name": "stdout",
     "output_type": "stream",
     "text": [
      "purple\n"
     ]
    }
   ],
   "source": [
    "print(car)"
   ]
  },
  {
   "cell_type": "markdown",
   "metadata": {},
   "source": [
    "Variables can be called whatever you want - the only requirement is that they do not start with a number (e.g. `1car`) and they do not contain spaces (i.e. instead of `my car` you should have `my_car` with an underscore).\n",
    "\n",
    "### Some basic maths calculations\n",
    "\n",
    "If you create variables that hold numbers then you can combine them to make a calculation. Let's calculate how many steps a group of people have done in one day:"
   ]
  },
  {
   "cell_type": "code",
   "execution_count": 5,
   "metadata": {},
   "outputs": [
    {
     "name": "stdout",
     "output_type": "stream",
     "text": [
      "16100\n"
     ]
    }
   ],
   "source": [
    "alice = 6000\n",
    "ian = 2500\n",
    "someone_else = 7500\n",
    "cotton_eyed_joe = 100\n",
    "\n",
    "total_steps = alice + ian + someone_else + cotton_eyed_joe\n",
    "\n",
    "print(total_steps)"
   ]
  },
  {
   "cell_type": "markdown",
   "metadata": {},
   "source": [
    "The following maths operations can be carried out:\n",
    "\n",
    "- Addition (e.g. `10 + 10`)\n",
    "- Subtraction (e.g. `10 - 10`)\n",
    "- Multiplication (e.g. `10 * 10`)\n",
    "- Division (e.g. `10 / 10`)\n",
    "\n",
    "These can be combined with curly braces to perform more complex calculations:\n",
    "- e.g. `(10*10)-(2+(6/3))`\n",
    "\n",
    "## Create a shopping list\n",
    "\n",
    "In addition to values, variables in python can be structured in different ways, such as a list. Lists in python are values separated by commas (`,`) that are encapsulated either end of the list. For example, a shopping list might be:"
   ]
  },
  {
   "cell_type": "code",
   "execution_count": 6,
   "metadata": {},
   "outputs": [
    {
     "name": "stdout",
     "output_type": "stream",
     "text": [
      "['eggs', 'milk', 'bread']\n"
     ]
    }
   ],
   "source": [
    "shopping_list = ['eggs', 'milk', 'bread']\n",
    "print(shopping_list)"
   ]
  },
  {
   "cell_type": "markdown",
   "metadata": {},
   "source": [
    "List objects have properties associated with them, such as length:"
   ]
  },
  {
   "cell_type": "code",
   "execution_count": 7,
   "metadata": {},
   "outputs": [
    {
     "data": {
      "text/plain": [
       "3"
      ]
     },
     "execution_count": 7,
     "metadata": {},
     "output_type": "execute_result"
    }
   ],
   "source": [
    "len(shopping_list)"
   ]
  },
  {
   "cell_type": "markdown",
   "metadata": {},
   "source": [
    "And they can be added to..."
   ]
  },
  {
   "cell_type": "code",
   "execution_count": 8,
   "metadata": {},
   "outputs": [
    {
     "name": "stdout",
     "output_type": "stream",
     "text": [
      "['eggs', 'milk', 'bread', 'sausages']\n"
     ]
    }
   ],
   "source": [
    "shopping_list.append('sausages')\n",
    "\n",
    "print(shopping_list)"
   ]
  },
  {
   "cell_type": "markdown",
   "metadata": {},
   "source": [
    "If you wanted to make a more detailed shopping list, you might create a `dictionary`. A dictionary holds data in such a way that you can 'look up' something by name, and see what values are associated with it. If we think about our shopping list, we might not just want to know what to buy, but how much of each.\n",
    "\n",
    "A dictionary is similar to a list, but this uses curly braces (i.e. `{}`) to encapsulate the contents, and each comma-separated entry consists of a key:value pair. For example:"
   ]
  },
  {
   "cell_type": "code",
   "execution_count": 9,
   "metadata": {},
   "outputs": [
    {
     "name": "stdout",
     "output_type": "stream",
     "text": [
      "{'eggs': 6, 'milk': 1, 'bread': 1, 'sausages': 12}\n"
     ]
    }
   ],
   "source": [
    "shopping_list = {'eggs': 6, 'milk': 1, 'bread': 1, 'sausages': 12}\n",
    "\n",
    "print(shopping_list)"
   ]
  },
  {
   "cell_type": "markdown",
   "metadata": {},
   "source": [
    "In order to look up a valud in a dictionary, you put the name of the `key` inside square brackets (`[]`) just after the variable/object that contains them:"
   ]
  },
  {
   "cell_type": "code",
   "execution_count": 10,
   "metadata": {},
   "outputs": [
    {
     "name": "stdout",
     "output_type": "stream",
     "text": [
      "12\n"
     ]
    }
   ],
   "source": [
    "number_of_items = shopping_list['sausages']\n",
    "\n",
    "print(number_of_items)"
   ]
  },
  {
   "cell_type": "markdown",
   "metadata": {},
   "source": [
    "## Finding out the cost of our shopping list\n",
    "\n",
    "Now we have our shopping list as a `dictionary`, let's use that information to calculate the cost of the shopping trip.\n",
    "\n",
    "In order to do this, we will use a \"loop\" to iterate over each item name and quantity, one at a time. We will then use the item name to look up a price in a separate dictionary, and multiply that price by the quantity. Each time we do this, we will update a total cost."
   ]
  },
  {
   "cell_type": "code",
   "execution_count": 11,
   "metadata": {},
   "outputs": [
    {
     "name": "stdout",
     "output_type": "stream",
     "text": [
      "26.12\n"
     ]
    }
   ],
   "source": [
    "# Lines that start with a hash (#) are 'commented out'. Python cannot 'see' them.\n",
    "\n",
    "prices = {'eggs': 2.50, 'milk': 0.92, 'bread': 1.20, 'sausages': 0.75}\n",
    "\n",
    "total_cost = 0\n",
    "\n",
    "# Loop over the items in our shopping list\n",
    "for item_name, item_quantity in shopping_list.items():\n",
    "    \n",
    "    # Get the price of the item from the prices dicrionary\n",
    "    price_per_item = prices[item_name]\n",
    "    \n",
    "    # Calculate how much the number of these items we want will be\n",
    "    item_cost = price_per_item * item_quantity\n",
    "    \n",
    "    # Update our total cost\n",
    "    total_cost += item_cost\n",
    "    \n",
    "# Show the final total\n",
    "print(total_cost)    "
   ]
  },
  {
   "cell_type": "markdown",
   "metadata": {},
   "source": [
    "Quite a lot happening here - but nothing too complex. After creating the prices dictionary and initialising the cost of our shopping as zero, we used a `for` loop to iterate over the items in the dictionary.\n",
    "\n",
    "Loops are used in python to do repetitive tasks like this quite often, and in this case each dictionary item is split into the 'key' (`item_name`) and the 'value' (`item_quantity`), which are then available to the code inside the loop (the lines which are indented by four spaces. The final line that prints the total cost is not indented, so it is executed after the loop above it has come to a stop.\n",
    "\n",
    "Something else we did not already cover was the `+=` notation - this is telling python to update the `total_cost` variable with it's previous value added to the new `item_cost` value. This means it adds up the cost as the loop goes through the list."
   ]
  },
  {
   "cell_type": "markdown",
   "metadata": {},
   "source": [
    "## The end of Part I\n",
    "This is the end of part I - if you followed this far, you have actually covered a great deal in a short space of time. There is much more to be learned, but I find this is not particularly helpful unless applied to a real problem that you have some interest in. Not necessarily how to calculate the price of a shopping list (but whatever floats your boat I guess...).\n",
    "\n",
    "Next we will try to address this to make things more interesting. The next part will get you started with opening a spreadsheet in Python, and show how you can work with data contained in files."
   ]
  }
 ],
 "metadata": {
  "kernelspec": {
   "display_name": "Python 3",
   "language": "python",
   "name": "python3"
  },
  "language_info": {
   "codemirror_mode": {
    "name": "ipython",
    "version": 3
   },
   "file_extension": ".py",
   "mimetype": "text/x-python",
   "name": "python",
   "nbconvert_exporter": "python",
   "pygments_lexer": "ipython3",
   "version": "3.6.0"
  }
 },
 "nbformat": 4,
 "nbformat_minor": 2
}
